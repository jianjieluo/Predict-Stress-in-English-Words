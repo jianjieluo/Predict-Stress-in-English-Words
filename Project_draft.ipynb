{
 "cells": [
  {
   "cell_type": "markdown",
   "metadata": {},
   "source": [
    "# Project: Predict Stress in English Words\n"
   ]
  },
  {
   "cell_type": "markdown",
   "metadata": {},
   "source": [
    "In this project, you need to build a classifier to predict the stresses for a list of English words."
   ]
  },
  {
   "cell_type": "markdown",
   "metadata": {},
   "source": [
    "## 1. Represent Pronunciations of English Words\n",
    "\n",
    "\n",
    "### 1.1 Phonemes\n",
    "\n",
    "We use the following symbols to represent phonemes of English words.\n",
    "\n",
    "* Vowel phonemes: AA, AE, AH, AO, AW, AY, EH, ER, EY, IH, IY, OW, OY, UH, UW\n",
    "* Consonant phonemes: P, B, CH, D, DH, F, G, HH, JH, K, L, M, N, NG, R, S, SH, T, TH, V, W, Y, Z, ZH\n",
    "\n",
    "| Vowel |  IPA  || consonant | IPA | consonant | IPA |\n",
    "|:-----:|:-----:||:---------:|:---:|:---------:|:---:|\n",
    "|   AA  |   ɑ   ||     P     |  p  |     S     |  s  |\n",
    "|   AE  |   æ   ||     B     |  b  |     SH    |  ʃ  |\n",
    "|   AH  | ə / ʌ ||     CH    |  tʃ |     T     |  t  |\n",
    "|   AO  |   ɔ   ||     D     |  d  |     TH    |  θ  |\n",
    "|   AW  |   aʊ  ||     DH    |  ð  |     V     |  v  |\n",
    "|   AY  |   aɪ  ||     F     |  f  |     W     |  w  |\n",
    "|   EH  |   ɛ   ||     G     |  g  |     Y     |  j  |\n",
    "|   ER  |   ɜːr ||     HH    |  h  |     Z     |  z  |\n",
    "|   EY  |   eɪ  ||     JH    |  dʒ |     ZH    |  ʒ  |\n",
    "|   IH  |   ɪ   ||     K     |  k  |           |     |\n",
    "|   IY  |   i   ||     L     |  l  |           |     |\n",
    "|   OW  |   oʊ  ||     M     |  m  |           |     |\n",
    "|   OY  |   ɔɪ  ||     N     |  n  |           |     |\n",
    "|   UH  |   ʊ   ||     NG    |  ŋ  |           |     |\n",
    "|   UW  |   u   ||     R     |  r  |           | $ $ |\n",
    "\n",
    "Note: in this project, we follow the pronunciation of **American English**.\n",
    "\n",
    "\n",
    "### 1.2 Stress\n",
    "\n",
    "We use 0/1/2 followed by a *vowel* phoneme to indicate the stress:\n",
    "* 0: No stress\n",
    "* 1: Primary stress\n",
    "* 2: Secondary stress\n",
    "\n",
    "### 1.3 Word Stress Rules\n",
    "\n",
    "We make the following assumptions in this project (they are true in most cases)\n",
    "\n",
    "* A word **only have one** pronunciation (we do not consider words with multiple pronunciations)\n",
    "* A word **must have one and only one** primary stress\n",
    "* Only vowels are stressed\n",
    "\n",
    "In addition, we **only consider words with less than 5 vowels** (i.e., words with 5 or more vowels have been removed from training and testing datasets).\n",
    "\n",
    "### 1.4 Example\n",
    "We take the word **university** (pronounced as [ˌjunəˈvɜrsəti]) as an example, its pronunciation is formed like:\n",
    "**<center>Y UW2 N AH0 V ER1 S AH0 T IY0</center>**"
   ]
  },
  {
   "cell_type": "markdown",
   "metadata": {},
   "source": [
    "## 2. File Format\n",
    "\n",
    "### 2.1 Training Data\n",
    "The training data contains 50,000 words. Each word (uppercase) follows by its pronunciation, formed like\n",
    "\n",
    "```\n",
    "Word:Pronunciation\n",
    "```\n",
    "\n",
    "For example, the line corresponding to word *university* should be:\n",
    "\n",
    "```\n",
    "UNIVERSITY:Y UW2 N AH0 V ER1 S AH0 T IY0\n",
    "```\n",
    "\n",
    "### 2.2 Testing Data\n",
    "\n",
    "The testing data contains several lines, where each line corresponds to a word. \n",
    "\n",
    "The only difference compares to the training data is that, in the testing data, we have removed all the stress symbols (i.e., 0/1/2). And you need to predict them.\n",
    "\n",
    "For example , the line corresponding to word *university* in the testing data should be:\n",
    "\n",
    "```\n",
    "UNIVERSITY:Y UW N AH V ER S AH T IY\n",
    "```\n",
    "\n",
    "### 2.3 Helper Functions\n",
    "\n",
    "In order to make your life easier and avoid unnecessary bugs, we will offer a helper function to read training/testing data from files, and convert them into a list of strings. And the list will be passed as an argument to the training and testing functions. Please refer to 4.1.2 for execution example."
   ]
  },
  {
   "cell_type": "markdown",
   "metadata": {},
   "source": [
    "## 3. Your Task\n",
    "\n",
    "### 3.1 Output the position of the primary stress\n",
    "\n",
    "For each word in the testing data, you need to output the position of the primary stress. Since only vowels are stressed, we only count vowels. For example, you should output **3** for the word **university**, as the primary stress of the word university is on the 3rd vowel (i.e., **ER**).\n",
    "\n",
    "Assume the testing data contains 5 words, whose primary stresses are on the 1st, 2nd, 1st, 3rd and 2nd vowel. Then your `test()` function should return a list of 5 integer numbers: `[1, 2, 1, 3, 2]`. In order to do that, you need to train a classifier using `train()` function."
   ]
  },
  {
   "cell_type": "markdown",
   "metadata": {},
   "source": [
    "### 3.2 train()\n",
    "\n",
    "In order to successfully predict the stress, you need to train a classifier. You are required to implement a function named train(). Its two arguments are the training data (stored as a list of strings) and the output file path.\n",
    "\n",
    "You need to dump the classifier and relevant data/tools (if there is any) into one single file. Hint: a easy (but ont the only) way of doing this is to use `pickle`."
   ]
  },
  {
   "cell_type": "code",
   "execution_count": 1,
   "metadata": {
    "collapsed": true
   },
   "outputs": [],
   "source": [
    "def train(data, classifier_file):\n",
    "    pass;"
   ]
  },
  {
   "cell_type": "markdown",
   "metadata": {},
   "source": [
    "### 3.3 test()\n",
    "\n",
    "You also need to implement a function named test(), which takes the test data as input and returns a list of integers which indicate the positions of the primary stress."
   ]
  },
  {
   "cell_type": "code",
   "execution_count": 2,
   "metadata": {
    "collapsed": true
   },
   "outputs": [],
   "source": [
    "def test(data, classifier_file):\n",
    "    pass;"
   ]
  },
  {
   "cell_type": "markdown",
   "metadata": {},
   "source": [
    "### 3.4 Restrictions\n",
    "\n",
    "* The **total** running time of training and testing **should not exceed 10 minutes** in the submission system. The system will force stop your program if it took more than 10 minutes, and you will receive 0 point for the programming part.\n",
    "\n",
    "* You are encouraged to import classifiers from sklearn, but you can **only** import and use **classifiers that has been introduced during the lecture**. For example, you cannot import `sklearn.ensemble.RandomForestClassifier` as it is not covered in the lecture. We do this by assuming that all the students have the same background knowledge."
   ]
  },
  {
   "cell_type": "markdown",
   "metadata": {},
   "source": [
    "### 3.5 Report\n",
    "\n",
    "You need to submit a report (in PDF format) which answers at least the following two questions:\n",
    "* What features do you use in your classifier? Why are they important and what information do you expect them to capture?\n",
    "* How do you experiment and improve your classifier?"
   ]
  },
  {
   "cell_type": "markdown",
   "metadata": {},
   "source": [
    "## 5. Submission\n",
    "\n",
    "Similar to the labs, **you need to submit both `submission.py` and report to the online submission system.** You cannot submit other files.\n",
    "\n",
    "The online system will try to execute your submitted code using data *sampled* from the test dataset that will be used for the final evaluation.\n",
    "\n",
    "For example, *assume* the test dataset $\\mathcal{D}$ for the final evaluation has 1000 words. Then each time when you submit your code, the system will randomly sample $n$ words from $\\mathcal{D}$, and use these $n$ words to test your code. \n",
    "\n",
    "You will be able to see the precision of your code on the $n$ words. If your code cannot be correctly executed, then you will receive an error message.\n",
    "\n",
    "### 5.1 Submission restrictions\n",
    "\n",
    "**Due to obvious reasons, we have the following restrictions. Please strictly follow them.**\n",
    "\n",
    "* Each student has only **10** chances to submit their *code* (no matter it can be correct executed or not). But you can submit report as many times as you want.\n",
    "* The `submission.py` file should **not exceed 30KB**.\n",
    "* The `report.pdf` file should **not exceed 10MB**.\n",
    "\n",
    "### 5.2 Late penalty\n",
    "\n",
    "* -30% for each day after the due date. \n",
    "\n",
    "**NOTE**\n",
    "\n",
    "* We will take the time of your last submission (no matter its the code or report submission) as your submission time.\n",
    "* We will only store your last submitted code and last submitted report; There is no way we can use your earlier versions and we do not accept any file from you after the deadline. "
   ]
  },
  {
   "cell_type": "code",
   "execution_count": null,
   "metadata": {
    "collapsed": true
   },
   "outputs": [],
   "source": []
  }
 ],
 "metadata": {
  "kernelspec": {
   "display_name": "Python 3",
   "language": "python",
   "name": "python3"
  },
  "language_info": {
   "codemirror_mode": {
    "name": "ipython",
    "version": 3
   },
   "file_extension": ".py",
   "mimetype": "text/x-python",
   "name": "python",
   "nbconvert_exporter": "python",
   "pygments_lexer": "ipython3",
   "version": "3.6.1"
  }
 },
 "nbformat": 4,
 "nbformat_minor": 2
}
