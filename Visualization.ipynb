{
 "cells": [
  {
   "cell_type": "markdown",
   "metadata": {},
   "source": [
    "# Visualization of some model we choose."
   ]
  },
  {
   "cell_type": "code",
   "execution_count": 1,
   "metadata": {},
   "outputs": [
    {
     "name": "stderr",
     "output_type": "stream",
     "text": [
      "/home/longj/anaconda3/envs/py36/lib/python3.6/site-packages/sklearn/cross_validation.py:44: DeprecationWarning: This module was deprecated in version 0.18 in favor of the model_selection module into which all the refactored classes and functions are moved. Also note that the interface of the new CV iterators are different from that of this module. This module will be removed in 0.20.\n",
      "  \"This module will be removed in 0.20.\", DeprecationWarning)\n"
     ]
    }
   ],
   "source": [
    "import helper\n",
    "from submission import *\n",
    "import numpy as np\n",
    "from sklearn.cross_validation import train_test_split \n",
    "from sklearn.metrics import f1_score"
   ]
  },
  {
   "cell_type": "code",
   "execution_count": 2,
   "metadata": {},
   "outputs": [
    {
     "name": "stderr",
     "output_type": "stream",
     "text": [
      "/home/longj/anaconda3/envs/py36/lib/python3.6/re.py:212: FutureWarning: split() requires a non-empty pattern match.\n",
      "  return _compile(pattern, flags).split(string, maxsplit)\n"
     ]
    }
   ],
   "source": [
    "# read the raw data\n",
    "raw_data = helper.read_data('./asset/training_data.txt')\n",
    "features, labels = training_preprocess(raw_data)"
   ]
  },
  {
   "cell_type": "code",
   "execution_count": 3,
   "metadata": {},
   "outputs": [
    {
     "data": {
      "text/plain": [
       "True"
      ]
     },
     "execution_count": 3,
     "metadata": {},
     "output_type": "execute_result"
    }
   ],
   "source": [
    "from sklearn import tree\n",
    "\n",
    "clf_dtree_gini = tree.DecisionTreeClassifier(criterion='gini')\n",
    "clf_dtree_gini.fit(features, labels)\n",
    "\n",
    "import pydotplus \n",
    "dot_data = tree.export_graphviz(clf_dtree_gini, out_file=None) \n",
    "graph = pydotplus.graph_from_dot_data(dot_data) \n",
    "graph.write_pdf(\"./asset/gini_decisiontree.pdf\") "
   ]
  },
  {
   "cell_type": "code",
   "execution_count": 8,
   "metadata": {},
   "outputs": [
    {
     "name": "stdout",
     "output_type": "stream",
     "text": [
      "dot: graph is too large for cairo-renderer bitmaps. Scaling by 0.0955911 to fit\n",
      "\n"
     ]
    },
    {
     "name": "stderr",
     "output_type": "stream",
     "text": [
      "IOPub data rate exceeded.\n",
      "The notebook server will temporarily stop sending output\n",
      "to the client in order to avoid crashing it.\n",
      "To change this limit, set the config variable\n",
      "`--NotebookApp.iopub_data_rate_limit`.\n"
     ]
    }
   ],
   "source": [
    "from IPython.display import Image\n",
    "feature_names = ['vowels_count', 'has_pre', 'vowel_seq1', 'vowel_seq2', 'vowel_seq3',\n",
    "'vowel_seq4', 'comb_seq1', 'comb_seq2', 'comb_seq3', 'comb_seq4']\n",
    "target_names = ['0', '1', '2', '3', '4']\n",
    "\n",
    "dot_data = tree.export_graphviz(clf_dtree_gini, out_file=None, \n",
    "                 feature_names=feature_names,  \n",
    "                 class_names=target_names,  \n",
    "                 filled=True, rounded=True,  \n",
    "                 special_characters=True)  \n",
    "graph = pydotplus.graph_from_dot_data(dot_data)\n",
    "Image(graph.create_png()) "
   ]
  },
  {
   "cell_type": "code",
   "execution_count": 4,
   "metadata": {},
   "outputs": [
    {
     "data": {
      "text/plain": [
       "True"
      ]
     },
     "execution_count": 4,
     "metadata": {},
     "output_type": "execute_result"
    }
   ],
   "source": [
    "clf_dtree_entropy = tree.DecisionTreeClassifier(criterion='entropy')\n",
    "clf_dtree_entropy.fit(features, labels)\n",
    "\n",
    "dot_data2 = tree.export_graphviz(clf_dtree_entropy, out_file=None) \n",
    "graph = pydotplus.graph_from_dot_data(dot_data2) \n",
    "graph.write_pdf(\"./asset/entropy_decisiontree.pdf\") "
   ]
  },
  {
   "cell_type": "markdown",
   "metadata": {},
   "source": [
    "The tree is very wide ! and it is too large to output on the screen!"
   ]
  }
 ],
 "metadata": {
  "kernelspec": {
   "display_name": "Python 3",
   "language": "python",
   "name": "python3"
  },
  "language_info": {
   "codemirror_mode": {
    "name": "ipython",
    "version": 3
   },
   "file_extension": ".py",
   "mimetype": "text/x-python",
   "name": "python",
   "nbconvert_exporter": "python",
   "pygments_lexer": "ipython3",
   "version": "3.6.1"
  }
 },
 "nbformat": 4,
 "nbformat_minor": 2
}
