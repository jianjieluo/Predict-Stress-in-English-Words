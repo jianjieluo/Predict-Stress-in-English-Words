{
 "cells": [
  {
   "cell_type": "markdown",
   "metadata": {},
   "source": [
    "# Longj's Simple Notebook about DM\n",
    "\n",
    "## Learning: Data Mining\n",
    "\n",
    "\n",
    "- DataMining Machine Learning\n",
    "    - unsupervised learning\n",
    "        - patterns in data\n",
    "        - clusters\n",
    "    - supervised learning\n",
    "        - providing labels\n",
    "        - new data\n",
    "        - training -> test\n",
    "        \n",
    "The 3 points of supervised learning can be concluded as  `classify + regress`. And no matter unsupervised or supervised learning, you need to do the cross validate **always**!\n",
    "\n",
    "### The Differences\n",
    "\n",
    "1. **Unsupervised learning**: You don't know too much about the input data. You just need to put your data in and the learning method help you to find some clusters.\n",
    "2. **Supervised learning**: You already know the input data can be classified into several labels, and now you need to use the input data to train your model, when a new data comes in, your model can **classify** it and tell you which label does it belong to.\n",
    "\n",
    "\n",
    "### The Relation\n",
    "\n",
    "You can use clustering to provide the supervised learning with labels calculated by unsupervissed learning.\n",
    "\n"
   ]
  },
  {
   "cell_type": "markdown",
   "metadata": {},
   "source": [
    "## Some common methods\n",
    "\n",
    "- Unsupervised Learning\n",
    "    - k-means\n",
    "- Supervised Learning\n",
    "    - knn\n",
    "    - decision tree\n",
    "    - naive bayes\n"
   ]
  },
  {
   "cell_type": "markdown",
   "metadata": {},
   "source": [
    "### k-means\n",
    "\n",
    "使用了迭代优化的技术\n",
    "\n",
    "下面记录下简单思想：\n",
    "k表示你想要划分成几个聚类。然后：\n",
    "1. 先guess k 个点$\\{A_0, B_0, C_0, \\ldots ,K_0\\}$，然后相互之间作垂直平分线来划分成不同的块。这k个点为k个不同的类的起始参考点。\n",
    "2. 对于第一个点$A_0$,寻找它那个块里面，到所有的观测点（就是划到那一块的输入数据）的平均距离最近的一个点$A_1$,把它作为A类的新的参考点。\n",
    "3. 同理计算$B_0, C_0, \\ldots ,K_0$， 最终得到$\\{A_1, B_1, C_1, \\ldots ,K_1\\}$，完成第一轮迭代\n",
    "4. 以A为例，多次迭代后，$A_n$与$A_n-1$的距离会越来越小，小到一个误差允许的范围后，停止迭代。"
   ]
  },
  {
   "cell_type": "markdown",
   "metadata": {},
   "source": [
    "### knn\n",
    "\n",
    "- 已经对每个观测数据都分好类了，比如说输入数据只有2类A和B，每个观测数据都知道它是A还是B了。\n",
    "- 对于一个新来的数据，查找距离它最近的k个观测数据。\n",
    "- 看这k个观测数据里面是A的数量多还是B的数量多，如果A的数量多的话，那么就认为（“分类”）新来的数据是属于A类的。\n",
    "- k一般为奇数，避免五五分。\n",
    "\n"
   ]
  },
  {
   "cell_type": "markdown",
   "metadata": {},
   "source": [
    "It's be continued..."
   ]
  },
  {
   "cell_type": "markdown",
   "metadata": {},
   "source": [
    "[project 相关（粗略整理版）](https://app.yinxiang.com/shard/s69/nl/15076550/8674fc83-40cb-46b6-b007-d33eafc538e8?title=DataMining%20Project)"
   ]
  }
 ],
 "metadata": {
  "kernelspec": {
   "display_name": "Python 3",
   "language": "python",
   "name": "python3"
  },
  "language_info": {
   "codemirror_mode": {
    "name": "ipython",
    "version": 3
   },
   "file_extension": ".py",
   "mimetype": "text/x-python",
   "name": "python",
   "nbconvert_exporter": "python",
   "pygments_lexer": "ipython3",
   "version": "3.6.1"
  }
 },
 "nbformat": 4,
 "nbformat_minor": 2
}
